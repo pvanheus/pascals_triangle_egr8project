{
 "cells": [
  {
   "cell_type": "markdown",
   "metadata": {},
   "source": [
    "               1\n",
    "              1 1\n",
    "             1 2 1 \n",
    "            1 3 3 1\n",
    "           1 4 6 4 1 \n",
    "           \n",
    "           row 0: 1\n",
    "           row 1: 1 1\n",
    "           row 2: 1 2 1\n",
    "           row 3: 1 3 3 1\n",
    "           row 4: 1 4 6 4 1\n",
    "           \n",
    "Maths is Fun has a great introduction to [Pascal's Triangle](http://www.mathsisfun.com/pascals-triangle.html). And if you want to play around with [Pascal's Petals](http://mathforum.org/workshops/usi/pascal/petals_pascal.html). The \"Pascal\" in the name is [Blaise Pascal](https://en.wikipedia.org/wiki/Blaise_Pascal) who made greate use of the triangle. It was known millenia earlier though, in the context of the study of combinatorics (how many combinations can be chosen from a group of items). Perhaps, then, it should be called [Pingala](https://en.wikipedia.org/wiki/Pingala)'s triangle. Certainly the name is a misnomer. Below is some Python code related to working with the triangle."
   ]
  },
  {
   "cell_type": "code",
   "execution_count": 29,
   "metadata": {
    "collapsed": false
   },
   "outputs": [],
   "source": [
    "def get_triangle(triangle, n, k):\n",
    "    return 0 if k < 0 or k > (len(triangle[n]) - 1) else triangle[n][k]"
   ]
  },
  {
   "cell_type": "code",
   "execution_count": 120,
   "metadata": {
    "collapsed": false
   },
   "outputs": [],
   "source": [
    "fact_memory = { 1: 1 }\n",
    "def factorial(n):\n",
    "    global fact_memory\n",
    "    def fact_helper(n, total):\n",
    "        if n < 2:\n",
    "            return total\n",
    "        else:\n",
    "            return fact_helper(n-1, total * n)\n",
    "    return fact_memory.setdefault(n, fact_helper(n, 1))"
   ]
  },
  {
   "cell_type": "code",
   "execution_count": 121,
   "metadata": {
    "collapsed": false
   },
   "outputs": [],
   "source": [
    "def choose(n, k):\n",
    "    return int(factorial(n) / (factorial(k) * factorial(n - k)))"
   ]
  },
  {
   "cell_type": "code",
   "execution_count": 122,
   "metadata": {
    "collapsed": true
   },
   "outputs": [],
   "source": [
    "def pascal_triangle(m):\n",
    "    triangle = [[1]]\n",
    "    for n in range(1,m):\n",
    "        triangle.append([])\n",
    "        for k in range(n+1):\n",
    "#             cell_val = get_triangle(triangle, n-1, k-1) + get_triangle(triangle, n-1, k)\n",
    "            # another way to get the right value for the cell at row n, column k would be:\n",
    "            cell_val = choose(n, k)\n",
    "            triangle[n].append(cell_val)\n",
    "    return triangle"
   ]
  },
  {
   "cell_type": "code",
   "execution_count": 123,
   "metadata": {
    "collapsed": false
   },
   "outputs": [],
   "source": [
    "def print_triangle(triangle):\n",
    "    indent = len(triangle) - 1\n",
    "    for i in range(len(triangle)):\n",
    "        print( ' ' * (len(triangle) - i), end='')\n",
    "        for j in range(len(triangle[i])):\n",
    "            print(str(triangle[i][j]) + ' ', end='')\n",
    "        print()"
   ]
  },
  {
   "cell_type": "code",
   "execution_count": 124,
   "metadata": {
    "collapsed": false
   },
   "outputs": [
    {
     "data": {
      "text/plain": [
       "2"
      ]
     },
     "execution_count": 124,
     "metadata": {},
     "output_type": "execute_result"
    }
   ],
   "source": [
    "choose(2,1)"
   ]
  },
  {
   "cell_type": "code",
   "execution_count": 125,
   "metadata": {
    "collapsed": false
   },
   "outputs": [
    {
     "name": "stdout",
     "output_type": "stream",
     "text": [
      "     1 \n",
      "    1 1 \n",
      "   1 2 1 \n",
      "  1 3 3 1 \n",
      " 1 4 6 4 1 \n"
     ]
    }
   ],
   "source": [
    "print_triangle(pascal_triangle(5))"
   ]
  },
  {
   "cell_type": "code",
   "execution_count": 94,
   "metadata": {
    "collapsed": false
   },
   "outputs": [
    {
     "data": {
      "text/plain": [
       "120"
      ]
     },
     "execution_count": 94,
     "metadata": {},
     "output_type": "execute_result"
    }
   ],
   "source": [
    "factorial(5)"
   ]
  },
  {
   "cell_type": "code",
   "execution_count": 95,
   "metadata": {
    "collapsed": false
   },
   "outputs": [
    {
     "data": {
      "text/plain": [
       "{1: 1, 2: 1, 5: 120}"
      ]
     },
     "execution_count": 95,
     "metadata": {},
     "output_type": "execute_result"
    }
   ],
   "source": [
    "fact_memory"
   ]
  },
  {
   "cell_type": "code",
   "execution_count": 101,
   "metadata": {
    "collapsed": false
   },
   "outputs": [
    {
     "data": {
      "text/plain": [
       "1125899906842624"
      ]
     },
     "execution_count": 101,
     "metadata": {},
     "output_type": "execute_result"
    }
   ],
   "source": [
    "2 ** 50"
   ]
  },
  {
   "cell_type": "code",
   "execution_count": 102,
   "metadata": {
    "collapsed": false
   },
   "outputs": [
    {
     "data": {
      "text/plain": [
       "1024"
      ]
     },
     "execution_count": 102,
     "metadata": {},
     "output_type": "execute_result"
    }
   ],
   "source": [
    "2 ** 10"
   ]
  },
  {
   "cell_type": "code",
   "execution_count": 109,
   "metadata": {
    "collapsed": false
   },
   "outputs": [],
   "source": [
    "fib_memory = {0: 1, 1: 1}\n",
    "def fibonacci(n):\n",
    "    if n < 1:\n",
    "        return 0\n",
    "    elif n in fib_memory:\n",
    "        return fib_memory[n]\n",
    "    else:\n",
    "        number = fibonacci(n - 1) + fibonacci(n - 2)\n",
    "        fib_memory[n] = number\n",
    "        return number"
   ]
  },
  {
   "cell_type": "code",
   "execution_count": 115,
   "metadata": {
    "collapsed": false
   },
   "outputs": [
    {
     "name": "stdout",
     "output_type": "stream",
     "text": [
      "1 1\n",
      "2 1\n",
      "3 2\n",
      "4 3\n",
      "5 5\n",
      "6 8\n",
      "7 13\n",
      "8 21\n",
      "9 34\n",
      "10 55\n",
      "11 89\n",
      "12 144\n",
      "13 233\n",
      "14 377\n",
      "15 610\n",
      "16 987\n",
      "17 1597\n",
      "18 2584\n",
      "19 4181\n",
      "20 6765\n",
      "21 10946\n",
      "22 17711\n",
      "23 28657\n",
      "24 46368\n",
      "25 75025\n",
      "26 121393\n",
      "27 196418\n",
      "28 317811\n",
      "29 514229\n",
      "30 832040\n",
      "31 1346269\n",
      "32 2178309\n",
      "33 3524578\n",
      "34 5702887\n",
      "35 9227465\n",
      "36 14930352\n",
      "37 24157817\n",
      "38 39088169\n",
      "39 63245986\n",
      "40 102334155\n",
      "41 165580141\n",
      "42 267914296\n",
      "43 433494437\n",
      "44 701408733\n",
      "45 1134903170\n",
      "46 1836311903\n",
      "47 2971215073\n",
      "48 4807526976\n",
      "49 7778742049\n",
      "50 12586269025\n",
      "51 20365011074\n",
      "52 32951280099\n",
      "53 53316291173\n",
      "54 86267571272\n",
      "55 139583862445\n",
      "56 225851433717\n",
      "57 365435296162\n",
      "58 591286729879\n",
      "59 956722026041\n",
      "60 1548008755920\n",
      "61 2504730781961\n",
      "62 4052739537881\n",
      "63 6557470319842\n",
      "64 10610209857723\n",
      "65 17167680177565\n",
      "66 27777890035288\n",
      "67 44945570212853\n",
      "68 72723460248141\n",
      "69 117669030460994\n",
      "70 190392490709135\n",
      "71 308061521170129\n",
      "72 498454011879264\n",
      "73 806515533049393\n",
      "74 1304969544928657\n",
      "75 2111485077978050\n",
      "76 3416454622906707\n",
      "77 5527939700884757\n",
      "78 8944394323791464\n",
      "79 14472334024676221\n",
      "80 23416728348467685\n",
      "81 37889062373143906\n",
      "82 61305790721611591\n",
      "83 99194853094755497\n",
      "84 160500643816367088\n",
      "85 259695496911122585\n",
      "86 420196140727489673\n",
      "87 679891637638612258\n",
      "88 1100087778366101931\n",
      "89 1779979416004714189\n",
      "90 2880067194370816120\n",
      "91 4660046610375530309\n",
      "92 7540113804746346429\n",
      "93 12200160415121876738\n",
      "94 19740274219868223167\n",
      "95 31940434634990099905\n",
      "96 51680708854858323072\n",
      "97 83621143489848422977\n",
      "98 135301852344706746049\n",
      "99 218922995834555169026\n",
      "100 354224848179261915075\n"
     ]
    }
   ],
   "source": [
    "for i in range(1, 101):\n",
    "    print(i, fibonacci(i))"
   ]
  },
  {
   "cell_type": "code",
   "execution_count": null,
   "metadata": {
    "collapsed": true
   },
   "outputs": [],
   "source": []
  }
 ],
 "metadata": {
  "kernelspec": {
   "display_name": "Python [Root]",
   "language": "python",
   "name": "Python [Root]"
  },
  "language_info": {
   "codemirror_mode": {
    "name": "ipython",
    "version": 3
   },
   "file_extension": ".py",
   "mimetype": "text/x-python",
   "name": "python",
   "nbconvert_exporter": "python",
   "pygments_lexer": "ipython3",
   "version": "3.5.2"
  }
 },
 "nbformat": 4,
 "nbformat_minor": 2
}
